{
 "cells": [
  {
   "cell_type": "code",
   "execution_count": 10,
   "metadata": {
    "is_executing": true
   },
   "outputs": [],
   "source": [
    "import torch.nn as nn\n",
    "import argparse\n",
    "from util import load_UT_HAR_data, load_ReWiS_data, load_ReWiS_data_split, load_ReWiS_data_fewshot, load_Home_data_fewshot\n",
    "from util import load_UT_HAR_supervised_model, load_ReWiS_supervised_model\n",
    "import few_shot\n",
    "import torch\n",
    "import numpy as np\n",
    "import supervised\n",
    "import torch.backends.cudnn as cudnn\n",
    "import random\n",
    "import proto\n",
    "from config import param\n",
    "import os\n",
    "import pandas as pd\n",
    "from datetime import datetime\n",
    "import wandb \n",
    "import main\n",
    "\n",
    "''' \n",
    "fix seed\n",
    "'''\n",
    "torch.manual_seed(0)\n",
    "torch.cuda.manual_seed(0)   \n",
    "torch.cuda.manual_seed_all(0)\n",
    "np.random.seed(0)\n",
    "cudnn.benchmark = False\n",
    "cudnn.deterministic = True\n",
    "random.seed(0)"
   ]
  },
  {
   "cell_type": "code",
   "execution_count": 11,
   "metadata": {},
   "outputs": [
    {
     "data": {
      "text/plain": [
       "True"
      ]
     },
     "execution_count": 11,
     "metadata": {},
     "output_type": "execute_result"
    }
   ],
   "source": [
    "wandb.login()"
   ]
  },
  {
   "cell_type": "code",
   "execution_count": 12,
   "metadata": {},
   "outputs": [],
   "source": [
    "os.environ[\"WANDB_AGENT_DISABLE_FLAPPING\"] = \"true\"\n",
    "os.environ[\"WANDB_AGENT_MAX_INITIAL_FAILURES\"] = \"20\""
   ]
  },
  {
   "cell_type": "code",
   "execution_count": 13,
   "metadata": {},
   "outputs": [],
   "source": [
    "def main() : \n",
    "        now = str(datetime.now())\n",
    "        root = './Data'\n",
    "\n",
    "        learning = \"few-shot\"\n",
    "        dataset = \"ReWiS\"\n",
    "        model = \"ProtoNet\"\n",
    "        max_epoch = 7\n",
    "        epoch_size = 500\n",
    "        train_way = 4\n",
    "        test_way = 4\n",
    "\n",
    "\n",
    "        device = torch.device(\"cuda\" if torch.cuda.is_available() else \"cpu\")\n",
    "\n",
    "        train_x, train_y, test_x, test_y = load_ReWiS_data_fewshot(root)\n",
    "        model = proto.load_protonet_conv(\n",
    "                        x_dim=(1, 242, 242),\n",
    "                        hid_dim=64,\n",
    "                        z_dim=64,\n",
    "                        )\n",
    "        wandb.init (\n",
    "                        project=\"Meta-Transformer\",\n",
    "                        # group=self.config['fs_model'],\n",
    "                        # group=\"Test Sweep\",\n",
    "                        group=\"Test Sweep ReWiS ProtoNet\",\n",
    "                        name=now,\n",
    "                        notes= \"train : few_shot_datasets/ReWis/m1c4_PCA_test_80/train_A\\n\" +\n",
    "                        \"test : few_shot_datasets/ReWis/m1c4_PCA_test_80/test_A3\",\n",
    "\n",
    "                        # track hyperparameters and run metadata\n",
    "                        config = {\n",
    "                        \"architecture\": \"ProtoNet\",\n",
    "                        \"max_epoch\": max_epoch,\n",
    "                        \"epoch_size\" : epoch_size\n",
    "                        }\n",
    "                )\n",
    "        w_config = wandb.config\n",
    "\n",
    "        print(\"train_way: \" + str(train_way))\n",
    "        print(\"train_support : \" + str(w_config.train_support))\n",
    "        print(\"train_query : \" + str(w_config.train_query))\n",
    "\n",
    "        train_accuracy_history, train_loss_history = few_shot.train(\n",
    "                model = model, \n",
    "                learning_rate=1e-3, \n",
    "                train_x = train_x, \n",
    "                train_y = train_y,\n",
    "                n_way = train_way,\n",
    "                n_support = w_config.train_support, \n",
    "                n_query = w_config.train_query,\n",
    "                max_epoch = max_epoch,\n",
    "                epoch_size = epoch_size,\n",
    "                device = device,\n",
    "                )   \n",
    "\n",
    "        print(\"test_way: \" + str(test_way))\n",
    "        print(\"test_support : \" + str(w_config.test_support))\n",
    "        print(\"test_query : \" + str(w_config.test_query))\n",
    "\n",
    "        conf_mat, test_acc = few_shot.test(\n",
    "                model = model,\n",
    "                test_x = test_x,\n",
    "                test_y = test_y,\n",
    "                n_way = test_way,\n",
    "                n_support = w_config.test_support,\n",
    "                n_query = w_config.test_query,\n",
    "                test_episode = 1,\n",
    "                device = device,\n",
    "                )\n",
    "\n",
    "                # Result/learning/dataset/model_name/max_epoch/epoch_size/train.csv\n",
    "                # Result/learning/dataset/model_name/max_epoch/epoch_size/test.csv\n",
    "                # Result/learning/dataset/model_name/max_epoch/epoch_size/conf.csv\n",
    "                # model_out = f'Result/{args.learning}/{args.dataset}/{MHz}_{train_dir}_{test_dir}/{args.model}/train_s{param['train_support']}_train_q{param['train_query']}_test_s{param['test_support']}_test_q{param['test_query']}/{param['max_epoch']}_{param['epoch_size']}_{test_acc:.3f}/'\n",
    "        model_out = (\n",
    "                        f\"Result/{learning}/{dataset}/{model}/\"\n",
    "                        f\"train_s{w_config.train_support}_train_q{w_config.train_query}_\"\n",
    "                        f\"test_s{w_config.test_support}_test_q{w_config.test_query}/\"\n",
    "                        f\"{max_epoch}_{epoch_size}_{test_acc:.3f}/\"\n",
    "                        )\n",
    "        print(model_out)\n",
    "                # model_out = 'Result/{}/{}/{}/{}/{}/train_s{}_train_q{}_test_s{}_test_q{}/{}/'.format(args.learning, args.dataset, args.model, param['max_epoch'], param['epoch_size'],param['train_support'],param['train_query'],param['test_support'],param['test_query'],test_acc)\n",
    "        if not os.path.exists(model_out):\n",
    "                os.makedirs(model_out)\n",
    "                \n",
    "        train_history = pd.DataFrame({'Epoch': range(0, max_epoch),\n",
    "                        'Accuracy': train_accuracy_history,\n",
    "                        'Loss': train_loss_history})\n",
    "        test_history = pd.DataFrame({'Test Accuracy': [test_acc]})\n",
    "        confusion_matrix = pd.DataFrame(conf_mat.numpy())\n",
    "                \n",
    "        train_history.to_csv(model_out+ 'train.csv', index=False)\n",
    "        test_history.to_csv(model_out+ 'test.csv',index=False)\n",
    "        confusion_matrix.to_csv(model_out+'confusion.csv', index=True)    \n",
    "        torch.save(model.state_dict(),model_out + 'model.pt')\n",
    "        wandb.finish()\n",
    "        "
   ]
  },
  {
   "cell_type": "code",
   "execution_count": 14,
   "metadata": {},
   "outputs": [],
   "source": [
    "sweep_configuration = {\n",
    "    'project': 'Meta-Transformer',\n",
    "    'name': 'test sweep grid',\n",
    "    'entity' : 'pjs990301',\n",
    "    'method' : 'bayes',\n",
    "    'metric' : {\n",
    "        'goal' : 'maximize',\n",
    "        'name' : 'test_acc'\n",
    "    },\n",
    "    'parameters': {\n",
    "        'train_support': {'values': [3, 4, 5, 10, 15, 20, 25, 30]},\n",
    "        'train_query': {'values': [1, 2, 3, 4, 5, 6, 7, 8, 9, 10]},\n",
    "        'test_support': {'values': [3, 4, 5, 10, 15, 20, 25, 30]},\n",
    "        'test_query': {'values': [1, 2, 3, 4, 5, 6, 7, 8, 9, 10]},\n",
    "     }\n",
    "}"
   ]
  },
  {
   "cell_type": "code",
   "execution_count": 15,
   "metadata": {},
   "outputs": [
    {
     "name": "stdout",
     "output_type": "stream",
     "text": [
      "Create sweep with ID: 0crsyhdq\n",
      "Sweep URL: https://wandb.ai/pjs990301/Meta-Transformer/sweeps/0crsyhdq\n"
     ]
    }
   ],
   "source": [
    "sweep_id = wandb.sweep(\n",
    "    sweep=sweep_configuration, \n",
    "    project='Meta-Transformer',\n",
    "    entity='pjs990301'\n",
    "    )"
   ]
  },
  {
   "cell_type": "code",
   "execution_count": 17,
   "metadata": {},
   "outputs": [
    {
     "name": "stderr",
     "output_type": "stream",
     "text": [
      "\u001b[34m\u001b[1mwandb\u001b[0m: Agent Starting Run: 9onmosc1 with config:\n",
      "\u001b[34m\u001b[1mwandb\u001b[0m: \ttest_query: 1\n",
      "\u001b[34m\u001b[1mwandb\u001b[0m: \ttest_support: 3\n",
      "\u001b[34m\u001b[1mwandb\u001b[0m: \ttrain_query: 1\n",
      "\u001b[34m\u001b[1mwandb\u001b[0m: \ttrain_support: 4\n"
     ]
    },
    {
     "name": "stdout",
     "output_type": "stream",
     "text": [
      "using dataset: ReWiS DATA Few shot\n"
     ]
    },
    {
     "name": "stderr",
     "output_type": "stream",
     "text": [
      "Failed to detect the name of this notebook, you can set it manually with the WANDB_NOTEBOOK_NAME environment variable to enable code saving.\n",
      "\u001b[34m\u001b[1mwandb\u001b[0m: \u001b[33mWARNING\u001b[0m Ignored wandb.init() arg project when running a sweep.\n"
     ]
    },
    {
     "data": {
      "text/html": [
       "Tracking run with wandb version 0.15.3"
      ],
      "text/plain": [
       "<IPython.core.display.HTML object>"
      ]
     },
     "metadata": {},
     "output_type": "display_data"
    },
    {
     "data": {
      "text/html": [
       "Run data is saved locally in <code>/home/jisung/PycharmProjects/Wi-Fi-Few-shot-Benchmark/wandb/run-20230603_042803-9onmosc1</code>"
      ],
      "text/plain": [
       "<IPython.core.display.HTML object>"
      ]
     },
     "metadata": {},
     "output_type": "display_data"
    },
    {
     "data": {
      "text/html": [
       "Syncing run <strong><a href='https://wandb.ai/pjs990301/Meta-Transformer/runs/9onmosc1' target=\"_blank\">2023-06-03 04:27:59.729860</a></strong> to <a href='https://wandb.ai/pjs990301/Meta-Transformer' target=\"_blank\">Weights & Biases</a> (<a href='https://wandb.me/run' target=\"_blank\">docs</a>)<br/>Sweep page: <a href='https://wandb.ai/pjs990301/Meta-Transformer/sweeps/0crsyhdq' target=\"_blank\">https://wandb.ai/pjs990301/Meta-Transformer/sweeps/0crsyhdq</a>"
      ],
      "text/plain": [
       "<IPython.core.display.HTML object>"
      ]
     },
     "metadata": {},
     "output_type": "display_data"
    },
    {
     "data": {
      "text/html": [
       " View project at <a href='https://wandb.ai/pjs990301/Meta-Transformer' target=\"_blank\">https://wandb.ai/pjs990301/Meta-Transformer</a>"
      ],
      "text/plain": [
       "<IPython.core.display.HTML object>"
      ]
     },
     "metadata": {},
     "output_type": "display_data"
    },
    {
     "data": {
      "text/html": [
       " View sweep at <a href='https://wandb.ai/pjs990301/Meta-Transformer/sweeps/0crsyhdq' target=\"_blank\">https://wandb.ai/pjs990301/Meta-Transformer/sweeps/0crsyhdq</a>"
      ],
      "text/plain": [
       "<IPython.core.display.HTML object>"
      ]
     },
     "metadata": {},
     "output_type": "display_data"
    },
    {
     "data": {
      "text/html": [
       " View run at <a href='https://wandb.ai/pjs990301/Meta-Transformer/runs/9onmosc1' target=\"_blank\">https://wandb.ai/pjs990301/Meta-Transformer/runs/9onmosc1</a>"
      ],
      "text/plain": [
       "<IPython.core.display.HTML object>"
      ]
     },
     "metadata": {},
     "output_type": "display_data"
    },
    {
     "name": "stdout",
     "output_type": "stream",
     "text": [
      "train_way: 4\n",
      "train_support : 4\n",
      "train_query : 1\n"
     ]
    },
    {
     "name": "stderr",
     "output_type": "stream",
     "text": [
      "Epoch 1 train: 100%|██████████| 500/500 [00:23<00:00, 21.04it/s]\n"
     ]
    },
    {
     "name": "stdout",
     "output_type": "stream",
     "text": [
      "Epoch 1 -- Acc: 0.25000 Loss: 17.637347395\n"
     ]
    },
    {
     "name": "stderr",
     "output_type": "stream",
     "text": [
      "Epoch 2 train: 100%|██████████| 500/500 [00:24<00:00, 20.68it/s]\n"
     ]
    },
    {
     "name": "stdout",
     "output_type": "stream",
     "text": [
      "Epoch 2 -- Acc: 0.25000 Loss: 0.768278486\n"
     ]
    },
    {
     "name": "stderr",
     "output_type": "stream",
     "text": [
      "Epoch 3 train: 100%|██████████| 500/500 [00:23<00:00, 20.91it/s]\n"
     ]
    },
    {
     "name": "stdout",
     "output_type": "stream",
     "text": [
      "Epoch 3 -- Acc: 0.25000 Loss: 0.562348467\n"
     ]
    },
    {
     "name": "stderr",
     "output_type": "stream",
     "text": [
      "Epoch 4 train: 100%|██████████| 500/500 [00:24<00:00, 20.44it/s]\n"
     ]
    },
    {
     "name": "stdout",
     "output_type": "stream",
     "text": [
      "Epoch 4 -- Acc: 0.25000 Loss: 0.267711509\n"
     ]
    },
    {
     "name": "stderr",
     "output_type": "stream",
     "text": [
      "Epoch 5 train: 100%|██████████| 500/500 [00:23<00:00, 20.84it/s]\n"
     ]
    },
    {
     "name": "stdout",
     "output_type": "stream",
     "text": [
      "Epoch 5 -- Acc: 0.25000 Loss: 0.283066831\n"
     ]
    },
    {
     "name": "stderr",
     "output_type": "stream",
     "text": [
      "Epoch 6 train: 100%|██████████| 500/500 [00:23<00:00, 21.00it/s]\n"
     ]
    },
    {
     "name": "stdout",
     "output_type": "stream",
     "text": [
      "Epoch 6 -- Acc: 0.25000 Loss: 0.104594652\n"
     ]
    },
    {
     "name": "stderr",
     "output_type": "stream",
     "text": [
      "Epoch 7 train: 100%|██████████| 500/500 [00:24<00:00, 20.30it/s]\n"
     ]
    },
    {
     "name": "stdout",
     "output_type": "stream",
     "text": [
      "Epoch 7 -- Acc: 0.25000 Loss: 0.125445613\n",
      "test_way: 4\n",
      "test_support : 3\n",
      "test_query : 1\n"
     ]
    },
    {
     "name": "stderr",
     "output_type": "stream",
     "text": [
      "test: 100%|██████████| 1/1 [00:00<00:00, 5184.55it/s]"
     ]
    },
    {
     "name": "stdout",
     "output_type": "stream",
     "text": [
      "tensor([[0., 0., 0., 0.],\n",
      "        [0., 0., 0., 0.],\n",
      "        [0., 0., 0., 0.],\n",
      "        [0., 0., 0., 0.]])\n"
     ]
    },
    {
     "name": "stderr",
     "output_type": "stream",
     "text": [
      "\n"
     ]
    },
    {
     "data": {
      "text/html": [
       "Waiting for W&B process to finish... <strong style=\"color:red\">(failed 1).</strong> Press Control-C to abort syncing."
      ],
      "text/plain": [
       "<IPython.core.display.HTML object>"
      ]
     },
     "metadata": {},
     "output_type": "display_data"
    },
    {
     "data": {
      "application/vnd.jupyter.widget-view+json": {
       "model_id": "86794cf24676483c931310664c90a6d3",
       "version_major": 2,
       "version_minor": 0
      },
      "text/plain": [
       "VBox(children=(Label(value='0.003 MB of 0.003 MB uploaded (0.000 MB deduped)\\r'), FloatProgress(value=1.0, max…"
      ]
     },
     "metadata": {},
     "output_type": "display_data"
    },
    {
     "data": {
      "text/html": [
       "<style>\n",
       "    table.wandb td:nth-child(1) { padding: 0 10px; text-align: left ; width: auto;} td:nth-child(2) {text-align: left ; width: 100%}\n",
       "    .wandb-row { display: flex; flex-direction: row; flex-wrap: wrap; justify-content: flex-start; width: 100% }\n",
       "    .wandb-col { display: flex; flex-direction: column; flex-basis: 100%; flex: 1; padding: 10px; }\n",
       "    </style>\n",
       "<div class=\"wandb-row\"><div class=\"wandb-col\"><h3>Run history:</h3><br/><table class=\"wandb\"><tr><td>acc</td><td>▁▁▁▁▁▁▁</td></tr><tr><td>loss</td><td>█▁▁▁▁▁▁</td></tr></table><br/></div><div class=\"wandb-col\"><h3>Run summary:</h3><br/><table class=\"wandb\"><tr><td>acc</td><td>0.25</td></tr><tr><td>loss</td><td>0.12545</td></tr></table><br/></div></div>"
      ],
      "text/plain": [
       "<IPython.core.display.HTML object>"
      ]
     },
     "metadata": {},
     "output_type": "display_data"
    },
    {
     "data": {
      "text/html": [
       " View run <strong style=\"color:#cdcd00\">2023-06-03 04:27:59.729860</strong> at: <a href='https://wandb.ai/pjs990301/Meta-Transformer/runs/9onmosc1' target=\"_blank\">https://wandb.ai/pjs990301/Meta-Transformer/runs/9onmosc1</a><br/>Synced 6 W&B file(s), 0 media file(s), 0 artifact file(s) and 0 other file(s)"
      ],
      "text/plain": [
       "<IPython.core.display.HTML object>"
      ]
     },
     "metadata": {},
     "output_type": "display_data"
    },
    {
     "data": {
      "text/html": [
       "Find logs at: <code>./wandb/run-20230603_042803-9onmosc1/logs</code>"
      ],
      "text/plain": [
       "<IPython.core.display.HTML object>"
      ]
     },
     "metadata": {},
     "output_type": "display_data"
    },
    {
     "name": "stderr",
     "output_type": "stream",
     "text": [
      "Run 9onmosc1 errored: ZeroDivisionError('float division by zero')\n",
      "\u001b[34m\u001b[1mwandb\u001b[0m: \u001b[32m\u001b[41mERROR\u001b[0m Run 9onmosc1 errored: ZeroDivisionError('float division by zero')\n"
     ]
    }
   ],
   "source": [
    "wandb.agent(sweep_id, function=main)"
   ]
  },
  {
   "cell_type": "code",
   "execution_count": null,
   "metadata": {},
   "outputs": [],
   "source": []
  }
 ],
 "metadata": {
  "kernelspec": {
   "display_name": "INC_ProtoNet",
   "language": "python",
   "name": "python3"
  },
  "language_info": {
   "codemirror_mode": {
    "name": "ipython",
    "version": 3
   },
   "file_extension": ".py",
   "mimetype": "text/x-python",
   "name": "python",
   "nbconvert_exporter": "python",
   "pygments_lexer": "ipython3",
   "version": "3.8.16"
  },
  "orig_nbformat": 4
 },
 "nbformat": 4,
 "nbformat_minor": 2
}
